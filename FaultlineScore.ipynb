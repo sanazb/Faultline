{
 "cells": [
  {
   "cell_type": "code",
   "execution_count": null,
   "metadata": {
    "collapsed": true
   },
   "outputs": [],
   "source": [
    "from collections import defaultdict\n",
    "\n",
    "def faultline_score(data):\n",
    "    val = 0\n",
    "    for f in xrange(len(data[0])):\n",
    "        counts = defaultdict(int)\n",
    "        # counting different values\n",
    "        for i in xrange(len(data)):\n",
    "            counts[data[i][f]] = counts[data[i][f]] + 1\n",
    "        # computing the number of triangles\n",
    "        for k, v in counts.iteritems():                         # for every possible value\n",
    "                val = val + (v * (v - 1) / 2) * (len(data) - v)\n",
    "    return val\n",
    "\n",
    "\n",
    "data = [['BIA', 'BA', 'M'], ['ME','CS','M'], ['EE','CS','M'], ['BIA','OTH','F']]\n",
    "fa"
   ]
  }
 ],
 "metadata": {
  "kernelspec": {
   "display_name": "Python 2",
   "language": "python",
   "name": "python2"
  },
  "language_info": {
   "codemirror_mode": {
    "name": "ipython",
    "version": 2
   },
   "file_extension": ".py",
   "mimetype": "text/x-python",
   "name": "python",
   "nbconvert_exporter": "python",
   "pygments_lexer": "ipython2",
   "version": "2.7.14"
  }
 },
 "nbformat": 4,
 "nbformat_minor": 2
}
